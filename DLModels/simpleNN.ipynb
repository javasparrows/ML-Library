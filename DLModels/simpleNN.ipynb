{
 "cells": [
  {
   "cell_type": "code",
   "execution_count": 1,
   "metadata": {},
   "outputs": [],
   "source": [
    "import jax.numpy as jnp\n",
    "from jax import grad, jit, vmap\n",
    "from jax import random"
   ]
  },
  {
   "attachments": {},
   "cell_type": "markdown",
   "metadata": {},
   "source": [
    "## Hyperparameters"
   ]
  },
  {
   "cell_type": "code",
   "execution_count": 2,
   "metadata": {},
   "outputs": [],
   "source": [
    "# 全結合層のためにweightsとbiasesをランダムに初期化するためのhelper function\n",
    "def random_layer_params(m, n, key, scale=1e-2):\n",
    "  w_key, b_key = random.split(key)\n",
    "  return scale * random.normal(w_key, (n, m)), scale * random.normal(b_key, (n,))\n",
    "\n",
    "# サイズを\"sizes\"とした全結合層の全ての層を初期化\n",
    "def init_network_params(sizes, key):\n",
    "  keys = random.split(key, len(sizes))\n",
    "  return [random_layer_params(m, n, k) for m, n, k in zip(sizes[:-1], sizes[1:], keys)]\n",
    "\n",
    "layer_sizes = [784, 512, 512, 10]\n",
    "step_size = 0.01\n",
    "num_epochs = 8\n",
    "batch_size = 128\n",
    "n_targets = 10\n",
    "params = init_network_params(layer_sizes, random.PRNGKey(0))"
   ]
  },
  {
   "attachments": {},
   "cell_type": "markdown",
   "metadata": {},
   "source": [
    "# Auto-batching predictions\n",
    "\n",
    "1枚の画像の例のために予測関数を定義しよう。。パフォーマンスの低下なしにミニバッチを自動的に扱うためにJAXの`vmap`関数を使う。"
   ]
  },
  {
   "cell_type": "code",
   "execution_count": 3,
   "metadata": {},
   "outputs": [],
   "source": [
    "from jax.scipy.special import logsumexp\n",
    "\n",
    "def relu(x):\n",
    "  return jnp.maximum(0, x)\n",
    "\n",
    "def predict(params, image):\n",
    "  # exampleごとの予測\n",
    "  activations = image\n",
    "  for w, b in params[:-1]:\n",
    "    outputs = jnp.dot(w, activations) + b\n",
    "    activations = relu(outputs)\n",
    "\n",
    "  final_w, final_b = params[-1]\n",
    "  logits = jnp.dot(final_w, activations) + final_b\n",
    "  return logits - logsumexp(logits)"
   ]
  },
  {
   "cell_type": "markdown",
   "metadata": {},
   "source": [
    "今作った予測関数が1枚の画像でのみ動くことを確かめよう"
   ]
  },
  {
   "cell_type": "code",
   "execution_count": 4,
   "metadata": {},
   "outputs": [
    {
     "name": "stdout",
     "output_type": "stream",
     "text": [
      "(10,)\n"
     ]
    }
   ],
   "source": [
    "# 1枚の画像で動く\n",
    "random_flattenend_image = random.normal(random.PRNGKey(1), (28 * 28,))\n",
    "preds = predict(params, random_flattenend_image)\n",
    "print(preds.shape)"
   ]
  },
  {
   "cell_type": "code",
   "execution_count": 5,
   "metadata": {},
   "outputs": [
    {
     "name": "stdout",
     "output_type": "stream",
     "text": [
      "Invalid shapes!\n"
     ]
    }
   ],
   "source": [
    "# バッチでは動かない\n",
    "random_flattenend_images = random.normal(random.PRNGKey(1), (10, 28 * 28))\n",
    "try:\n",
    "  preds = predict(params, random_flattenend_images)\n",
    "except TypeError:\n",
    "  print('Invalid shapes!')"
   ]
  },
  {
   "cell_type": "code",
   "execution_count": 6,
   "metadata": {},
   "outputs": [
    {
     "name": "stdout",
     "output_type": "stream",
     "text": [
      "(10, 10)\n"
     ]
    }
   ],
   "source": [
    "# バッチを扱えるように `vmap` を使ってアップグレードしよう\n",
    "\n",
    "# 予測関数のバッチ版を作る\n",
    "batched_predict = vmap(predict, in_axes=(None, 0))\n",
    "\n",
    "# `batched_predict` は `predict` と同じcallサインを持つ\n",
    "batched_preds = batched_predict(params, random_flattenend_images)\n",
    "print(batched_preds.shape)"
   ]
  },
  {
   "attachments": {},
   "cell_type": "markdown",
   "metadata": {},
   "source": [
    "ここで、私たちのニューラルネットワークを定義し、それを学習するのに必要な全ての材料が揃った。自動バッチ版の予測関数`predict`を構築した。これは損失関数の中で使えるはずのものである。ニューラルネットワークのパラメータごとのlossの微分を行うために`grad`を使う。最後に、全てをスピードアップするために`jit`を使用する。"
   ]
  },
  {
   "cell_type": "markdown",
   "metadata": {},
   "source": [
    "## Utility and loss functions"
   ]
  },
  {
   "cell_type": "code",
   "execution_count": 7,
   "metadata": {},
   "outputs": [],
   "source": [
    "def one_hot(x, k, dtype=jnp.float32):\n",
    "  \"\"\" x についての、サイズ k のone-hotエンコーディングを作成\"\"\"\n",
    "  return jnp.array(x[:, None] == jnp.arange(k), dtype)\n",
    "\n",
    "def accuracy(params, images, targets):\n",
    "  target_class = jnp.argmax(targets, axis=1)\n",
    "  predicted_class = jnp.argmax(batched_predict(params, images), axis=1)\n",
    "  return jnp.mean(predicted_class == target_class)\n",
    "\n",
    "def loss(params, images, targets):\n",
    "  preds = batched_predict(params, images)\n",
    "  return -jnp.mean(preds * targets)\n",
    "\n",
    "@jit\n",
    "def update(params, x, y):\n",
    "  grads = grad(loss)(params, x, y)\n",
    "  return [(w - step_size * dw, b - step_size * db)\n",
    "          for (w, b), (dw, db) in zip(params, grads)]"
   ]
  },
  {
   "attachments": {},
   "cell_type": "markdown",
   "metadata": {},
   "source": [
    "## Data Loading with PyTorch\n",
    "JAXはtransformationsに集中し、かつNumPyをバックとしているため、私たちはデータローディングやmunging（データをいろいろ加工すること）はJAXライブラリには含めていない。優れたデータローダーがすでにたくさんあるため、そういったものを再発明する代わりにそれらを使おう。PyTorchのデータローダーを使い、NumPy配列で動く簡単な機能を作ってみる。"
   ]
  },
  {
   "cell_type": "code",
   "execution_count": 17,
   "metadata": {},
   "outputs": [],
   "source": [
    "import numpy as np\n",
    "from torch.utils import data\n",
    "from torchvision.datasets import MNIST\n",
    "\n",
    "def numpy_collate(batch):\n",
    "  if isinstance(batch[0], np.ndarray):\n",
    "    return np.stack(batch)\n",
    "  elif isinstance(batch[0], (tuple,list)):\n",
    "    transposed = zip(*batch)\n",
    "    return [numpy_collate(samples) for samples in transposed]\n",
    "  else:\n",
    "    return np.array(batch)\n",
    "\n",
    "class NumpyLoader(data.DataLoader):\n",
    "  def __init__(self, dataset, batch_size=1,\n",
    "               shuffle=False, sampler=None,\n",
    "               batch_sampler=None, num_workers=0,\n",
    "               pin_memory=False, drop_last=False,\n",
    "               timeout=0, worker_init_fn=None):\n",
    "    super(self.__class__, self).__init__(dataset,\n",
    "          batch_size=batch_size,\n",
    "          shuffle=shuffle,\n",
    "          sampler=sampler,\n",
    "          batch_sampler=batch_sampler,\n",
    "          num_workers=num_workers,\n",
    "          collate_fn=numpy_collate,\n",
    "          pin_memory=pin_memory,\n",
    "          drop_last=drop_last,\n",
    "          timeout=timeout,\n",
    "          worker_init_fn=worker_init_fn)\n",
    "\n",
    "class FlattenAndCast(object):\n",
    "  def __call__(self, pic):\n",
    "    return np.ravel(np.array(pic, dtype=jnp.float32))"
   ]
  },
  {
   "cell_type": "code",
   "execution_count": 18,
   "metadata": {},
   "outputs": [],
   "source": [
    "# torch datasetを使ってdatasetを定義する\n",
    "mnist_dataset = MNIST('/tmp/mnist/', download=True, transform=FlattenAndCast())\n",
    "training_generator = NumpyLoader(mnist_dataset, batch_size=batch_size, num_workers=0)"
   ]
  },
  {
   "cell_type": "code",
   "execution_count": 19,
   "metadata": {},
   "outputs": [
    {
     "name": "stderr",
     "output_type": "stream",
     "text": [
      "/Users/yukik/Work/ML/ML-Library/.venv/lib/python3.10/site-packages/torchvision/datasets/mnist.py:75: UserWarning: train_data has been renamed data\n",
      "  warnings.warn(\"train_data has been renamed data\")\n",
      "/Users/yukik/Work/ML/ML-Library/.venv/lib/python3.10/site-packages/torchvision/datasets/mnist.py:65: UserWarning: train_labels has been renamed targets\n",
      "  warnings.warn(\"train_labels has been renamed targets\")\n",
      "/Users/yukik/Work/ML/ML-Library/.venv/lib/python3.10/site-packages/torchvision/datasets/mnist.py:80: UserWarning: test_data has been renamed data\n",
      "  warnings.warn(\"test_data has been renamed data\")\n",
      "/Users/yukik/Work/ML/ML-Library/.venv/lib/python3.10/site-packages/torchvision/datasets/mnist.py:70: UserWarning: test_labels has been renamed targets\n",
      "  warnings.warn(\"test_labels has been renamed targets\")\n"
     ]
    }
   ],
   "source": [
    "# フルのtrain datasetをゲット（学習中の精度を確認するため）\n",
    "train_images = np.array(mnist_dataset.train_data).reshape(len(mnist_dataset.train_data), -1)\n",
    "train_labels = one_hot(np.array(mnist_dataset.train_labels), n_targets)\n",
    "\n",
    "# フルのtest datasetをゲット\n",
    "mnist_dataset_test = MNIST('/tmp/mnist/', download=True, train=False)\n",
    "test_images = jnp.array(mnist_dataset_test.test_data.numpy().reshape(len(mnist_dataset_test.test_data), -1), dtype=jnp.float32)\n",
    "test_labels = one_hot(np.array(mnist_dataset_test.test_labels), n_targets)"
   ]
  },
  {
   "cell_type": "markdown",
   "metadata": {},
   "source": [
    "## Training Loop"
   ]
  },
  {
   "cell_type": "code",
   "execution_count": 20,
   "metadata": {},
   "outputs": [
    {
     "name": "stdout",
     "output_type": "stream",
     "text": [
      "Epoch 0 in 2.28 sec\n",
      "Training set accuracy 0.9157500267028809\n",
      "Test set accuracy 0.9199000000953674\n",
      "Epoch 1 in 2.00 sec\n",
      "Training set accuracy 0.937166690826416\n",
      "Test set accuracy 0.9384999871253967\n",
      "Epoch 2 in 2.01 sec\n",
      "Training set accuracy 0.9492499828338623\n",
      "Test set accuracy 0.946899950504303\n",
      "Epoch 3 in 2.05 sec\n",
      "Training set accuracy 0.9568166732788086\n",
      "Test set accuracy 0.9532999992370605\n"
     ]
    },
    {
     "ename": "KeyboardInterrupt",
     "evalue": "",
     "output_type": "error",
     "traceback": [
      "\u001b[0;31m---------------------------------------------------------------------------\u001b[0m",
      "\u001b[0;31mKeyboardInterrupt\u001b[0m                         Traceback (most recent call last)",
      "Cell \u001b[0;32mIn[20], line 6\u001b[0m\n\u001b[1;32m      4\u001b[0m start_time \u001b[39m=\u001b[39m time\u001b[39m.\u001b[39mtime()\n\u001b[1;32m      5\u001b[0m \u001b[39mfor\u001b[39;00m x, y \u001b[39min\u001b[39;00m training_generator:\n\u001b[0;32m----> 6\u001b[0m   y \u001b[39m=\u001b[39m one_hot(y, n_targets)\n\u001b[1;32m      7\u001b[0m   params \u001b[39m=\u001b[39m update(params, x, y)\n\u001b[1;32m      8\u001b[0m epoch_time \u001b[39m=\u001b[39m time\u001b[39m.\u001b[39mtime() \u001b[39m-\u001b[39m start_time\n",
      "Cell \u001b[0;32mIn[7], line 3\u001b[0m, in \u001b[0;36mone_hot\u001b[0;34m(x, k, dtype)\u001b[0m\n\u001b[1;32m      1\u001b[0m \u001b[39mdef\u001b[39;00m \u001b[39mone_hot\u001b[39m(x, k, dtype\u001b[39m=\u001b[39mjnp\u001b[39m.\u001b[39mfloat32):\n\u001b[1;32m      2\u001b[0m   \u001b[39m\"\"\" x についての、サイズ k のone-hotエンコーディングを作成\"\"\"\u001b[39;00m\n\u001b[0;32m----> 3\u001b[0m   \u001b[39mreturn\u001b[39;00m jnp\u001b[39m.\u001b[39;49marray(x[:, \u001b[39mNone\u001b[39;49;00m] \u001b[39m==\u001b[39;49m jnp\u001b[39m.\u001b[39;49marange(k), dtype)\n",
      "File \u001b[0;32m~/Work/ML/ML-Library/.venv/lib/python3.10/site-packages/jax/_src/numpy/lax_numpy.py:2009\u001b[0m, in \u001b[0;36marray\u001b[0;34m(object, dtype, copy, order, ndmin)\u001b[0m\n\u001b[1;32m   2005\u001b[0m     \u001b[39mreturn\u001b[39;00m array(np\u001b[39m.\u001b[39masarray(view), dtype, copy, ndmin\u001b[39m=\u001b[39mndmin)\n\u001b[1;32m   2007\u001b[0m   \u001b[39mraise\u001b[39;00m \u001b[39mTypeError\u001b[39;00m(\u001b[39mf\u001b[39m\u001b[39m\"\u001b[39m\u001b[39mUnexpected input type for array: \u001b[39m\u001b[39m{\u001b[39;00m\u001b[39mtype\u001b[39m(\u001b[39mobject\u001b[39m)\u001b[39m}\u001b[39;00m\u001b[39m\"\u001b[39m)\n\u001b[0;32m-> 2009\u001b[0m out_array: Array \u001b[39m=\u001b[39m lax_internal\u001b[39m.\u001b[39;49m_convert_element_type(out, dtype, weak_type\u001b[39m=\u001b[39;49mweak_type)\n\u001b[1;32m   2010\u001b[0m \u001b[39mif\u001b[39;00m ndmin \u001b[39m>\u001b[39m ndim(out_array):\n\u001b[1;32m   2011\u001b[0m   out_array \u001b[39m=\u001b[39m lax\u001b[39m.\u001b[39mexpand_dims(out_array, \u001b[39mrange\u001b[39m(ndmin \u001b[39m-\u001b[39m ndim(out_array)))\n",
      "File \u001b[0;32m~/Work/ML/ML-Library/.venv/lib/python3.10/site-packages/jax/_src/lax/lax.py:577\u001b[0m, in \u001b[0;36m_convert_element_type\u001b[0;34m(operand, new_dtype, weak_type)\u001b[0m\n\u001b[1;32m    574\u001b[0m   new_dtype \u001b[39m=\u001b[39m np\u001b[39m.\u001b[39mdtype(new_dtype)\n\u001b[1;32m    575\u001b[0m new_dtype \u001b[39m=\u001b[39m dtypes\u001b[39m.\u001b[39mdtype(new_dtype, canonicalize\u001b[39m=\u001b[39m\u001b[39mTrue\u001b[39;00m)\n\u001b[0;32m--> 577\u001b[0m \u001b[39mif\u001b[39;00m (dtypes\u001b[39m.\u001b[39;49missubdtype(old_dtype, np\u001b[39m.\u001b[39;49mcomplexfloating) \u001b[39mand\u001b[39;00m\n\u001b[1;32m    578\u001b[0m     \u001b[39mnot\u001b[39;00m dtypes\u001b[39m.\u001b[39missubdtype(new_dtype, np\u001b[39m.\u001b[39mcomplexfloating)):\n\u001b[1;32m    579\u001b[0m   msg \u001b[39m=\u001b[39m \u001b[39m\"\u001b[39m\u001b[39mCasting complex values to real discards the imaginary part\u001b[39m\u001b[39m\"\u001b[39m\n\u001b[1;32m    580\u001b[0m   warnings\u001b[39m.\u001b[39mwarn(msg, np\u001b[39m.\u001b[39mComplexWarning, stacklevel\u001b[39m=\u001b[39m\u001b[39m2\u001b[39m)\n",
      "File \u001b[0;32m~/Work/ML/ML-Library/.venv/lib/python3.10/site-packages/jax/_src/dtypes.py:251\u001b[0m, in \u001b[0;36missubdtype\u001b[0;34m(a, b)\u001b[0m\n\u001b[1;32m    248\u001b[0m   \u001b[39mexcept\u001b[39;00m \u001b[39mTypeError\u001b[39;00m:\n\u001b[1;32m    249\u001b[0m     \u001b[39mreturn\u001b[39;00m \u001b[39mFalse\u001b[39;00m\n\u001b[0;32m--> 251\u001b[0m \u001b[39mdef\u001b[39;00m \u001b[39missubdtype\u001b[39m(a: DTypeLike, b: DTypeLike) \u001b[39m-\u001b[39m\u001b[39m>\u001b[39m \u001b[39mbool\u001b[39m:\n\u001b[1;32m    252\u001b[0m   \u001b[39mif\u001b[39;00m a \u001b[39m==\u001b[39m \u001b[39m\"\u001b[39m\u001b[39mbfloat16\u001b[39m\u001b[39m\"\u001b[39m:\n\u001b[1;32m    253\u001b[0m     a \u001b[39m=\u001b[39m bfloat16\n",
      "\u001b[0;31mKeyboardInterrupt\u001b[0m: "
     ]
    }
   ],
   "source": [
    "import time\n",
    "\n",
    "for epoch in range(num_epochs):\n",
    "  start_time = time.time()\n",
    "  for x, y in training_generator:\n",
    "    y = one_hot(y, n_targets)\n",
    "    params = update(params, x, y)\n",
    "  epoch_time = time.time() - start_time\n",
    "  \n",
    "  train_acc = accuracy(params, train_images, train_labels)\n",
    "  test_acc = accuracy(params, test_images, test_labels)\n",
    "  print(f\"Epoch {epoch} in {epoch_time:0.2f} sec\")\n",
    "  print(f\"Training set accuracy {train_acc}\")\n",
    "  print(f\"Test set accuracy {test_acc}\")"
   ]
  },
  {
   "cell_type": "code",
   "execution_count": 27,
   "metadata": {},
   "outputs": [
    {
     "data": {
      "text/plain": [
       "(784,)"
      ]
     },
     "execution_count": 27,
     "metadata": {},
     "output_type": "execute_result"
    }
   ],
   "source": [
    "train_images[0].shape"
   ]
  },
  {
   "cell_type": "code",
   "execution_count": 33,
   "metadata": {},
   "outputs": [
    {
     "data": {
      "text/plain": [
       "DeviceArray([5, 0, 4, ..., 5, 6, 8], dtype=int32)"
      ]
     },
     "execution_count": 33,
     "metadata": {},
     "output_type": "execute_result"
    }
   ],
   "source": [
    "import matplotlib.pyplot as plt\n",
    "# plt.imshow(train_images)\n",
    "jnp.argmax(batched_predict(params, train_images), axis=1)"
   ]
  },
  {
   "cell_type": "code",
   "execution_count": null,
   "metadata": {},
   "outputs": [],
   "source": []
  }
 ],
 "metadata": {
  "kernelspec": {
   "display_name": ".venv",
   "language": "python",
   "name": "python3"
  },
  "language_info": {
   "codemirror_mode": {
    "name": "ipython",
    "version": 3
   },
   "file_extension": ".py",
   "mimetype": "text/x-python",
   "name": "python",
   "nbconvert_exporter": "python",
   "pygments_lexer": "ipython3",
   "version": "3.10.7"
  },
  "orig_nbformat": 4,
  "vscode": {
   "interpreter": {
    "hash": "0b6ce19cd792589e8ccf8babb3986c3b6ee32845423f27865ddfac7006bec93a"
   }
  }
 },
 "nbformat": 4,
 "nbformat_minor": 2
}
