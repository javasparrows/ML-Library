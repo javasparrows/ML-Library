{
 "cells": [
  {
   "cell_type": "code",
   "execution_count": 5,
   "metadata": {},
   "outputs": [],
   "source": [
    "import jax\n",
    "import jax.numpy as jnp\n",
    "from jax import nn\n",
    "from jax.nn.initializers import glorot_normal, normal\n",
    "from sklearn.datasets import load_iris\n",
    "from sklearn.model_selection import train_test_split\n",
    "\n",
    "@jax.jit\n",
    "def linear(x, W, b):\n",
    "    return jnp.dot(x, W) + b\n",
    "\n",
    "\n",
    "@jax.jit\n",
    "def Linear(params, inputs):\n",
    "    outputs = linear(inputs, params[\"W\"], params[\"b\"])\n",
    "    return outputs\n",
    "\n",
    "\n",
    "@jax.jit\n",
    "def MLP(params, inputs):\n",
    "    linear1_out = Linear(params[\"linear1\"], inputs)\n",
    "    linear2_in = nn.relu(linear1_out)\n",
    "    linear2_out = Linear(params[\"linear2\"], linear2_in)\n",
    "    logits = nn.softmax(linear2_out)\n",
    "    return logits\n",
    "\n",
    "\n",
    "@jax.jit\n",
    "def categorical_cross_entropy_loss(logits, onehot_labels):\n",
    "    return jnp.mean(-jnp.sum(onehot_labels * jnp.log(logits), axis=1))\n",
    "\n",
    "\n",
    "@jax.jit\n",
    "def SGD(params, grads, lr = 0.1):\n",
    "    return jax.tree_map(lambda param, grad: param - lr * grad, params, grads)\n",
    "\n",
    "\n",
    "@jax.jit\n",
    "def train_batch(params, batch_X, batch_y):\n",
    "    def loss_fn(params_, batch_X_):\n",
    "        logits = MLP(params_, batch_X_)\n",
    "        return categorical_cross_entropy_loss(logits, batch_y)\n",
    "    grads = jax.jit(jax.grad(loss_fn))(params, batch_X)\n",
    "    return SGD(params, grads)\n",
    "\n",
    "@jax.jit\n",
    "def train_one_epoch(rng, params, X_train, y_train, batch_size = 50):\n",
    "    index = jax.random.permutation(rng, X_train.shape[0])\n",
    "    num_batches = X_train.shape[0] // batch_size + 1\n",
    "    for batch in range(num_batches):\n",
    "        batch_index = index[batch * batch_size: (batch + 1) * batch_size]\n",
    "        params = train_batch(params, X_train[batch_index], y_train[batch_index])\n",
    "    return params\n",
    "\n",
    "\n",
    "@jax.jit\n",
    "def train(params, X_train, y_train, epochs: int):\n",
    "    rng = jax.random.PRNGKey(42)\n",
    "    params = jax.lax.fori_loop(0, epochs, lambda epoch_, params_: train_one_epoch(rng, params_, X_train, y_train), params)\n",
    "    return params\n",
    "\n",
    "\n",
    "@jax.jit\n",
    "def accuracy(params, X_test, y_test):\n",
    "    pred = MLP(params, X_test)\n",
    "    return jnp.mean(y_test == jnp.argmax(pred, axis=1))"
   ]
  },
  {
   "cell_type": "code",
   "execution_count": null,
   "metadata": {},
   "outputs": [],
   "source": []
  },
  {
   "cell_type": "code",
   "execution_count": 2,
   "metadata": {},
   "outputs": [],
   "source": [
    "rng = jax.random.PRNGKey(0)\n",
    "rng1, rng2 = jax.random.split(rng)\n",
    "rng1w, rng1b = jax.random.split(rng1)\n",
    "rng2w, rng2b = jax.random.split(rng2)"
   ]
  },
  {
   "cell_type": "code",
   "execution_count": 3,
   "metadata": {},
   "outputs": [
    {
     "name": "stdout",
     "output_type": "stream",
     "text": [
      "0.9736842\n"
     ]
    }
   ],
   "source": [
    "params = {\n",
    "    \"linear1\": {\n",
    "        \"W\": glorot_normal()(rng1w, (4, 100)),\n",
    "        \"b\": normal()(rng1b, (100,))\n",
    "    },\n",
    "    \"linear2\": {\n",
    "        \"W\": glorot_normal()(rng2w, (100, 3)),\n",
    "        \"b\": normal()(rng2b, (3,))\n",
    "    }\n",
    "}\n",
    "\n",
    "iris_dataset = load_iris()\n",
    "X_train, X_test, y_train, y_test = train_test_split(jnp.array(iris_dataset['data']), jnp.array(iris_dataset['target']), test_size=0.25,  random_state=0)\n",
    "y_train = jnp.eye(3)[y_train]\n",
    "params = train(params, X_train, y_train, 100)\n",
    "acc = accuracy(params, X_test, y_test)\n",
    "print(acc)"
   ]
  }
 ],
 "metadata": {
  "kernelspec": {
   "display_name": ".venv",
   "language": "python",
   "name": "python3"
  },
  "language_info": {
   "codemirror_mode": {
    "name": "ipython",
    "version": 3
   },
   "file_extension": ".py",
   "mimetype": "text/x-python",
   "name": "python",
   "nbconvert_exporter": "python",
   "pygments_lexer": "ipython3",
   "version": "3.10.7"
  },
  "orig_nbformat": 4,
  "vscode": {
   "interpreter": {
    "hash": "0b6ce19cd792589e8ccf8babb3986c3b6ee32845423f27865ddfac7006bec93a"
   }
  }
 },
 "nbformat": 4,
 "nbformat_minor": 2
}
