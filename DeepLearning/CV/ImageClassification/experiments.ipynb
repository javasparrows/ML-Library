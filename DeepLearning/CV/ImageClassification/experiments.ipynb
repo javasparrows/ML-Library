{
 "cells": [
  {
   "cell_type": "code",
   "execution_count": 2,
   "metadata": {},
   "outputs": [],
   "source": [
    "import os\n",
    "import numpy as np\n",
    "import pandas as pd\n",
    "from PIL import Image\n",
    "import torch\n",
    "import torchvision\n",
    "from torchvision import transforms as T\n",
    "from torch.utils.data import Dataset\n",
    "from sklearn.preprocessing import LabelEncoder"
   ]
  },
  {
   "cell_type": "code",
   "execution_count": 3,
   "metadata": {},
   "outputs": [],
   "source": [
    "class ImageNetDataset(Dataset):\n",
    "    def __init__(\n",
    "        self,\n",
    "        annotations_file,\n",
    "        img_dir,\n",
    "        transform=None,\n",
    "        target_transform=None,\n",
    "        mode=\"train\",\n",
    "    ):\n",
    "        self.df = pd.read_csv(annotations_file)\n",
    "        self.labelNums = np.array(self.getLabels()[0]).astype(np.uint8)\n",
    "        self.labelNames = self.getLabels()[1]\n",
    "        self.img_names = self.getImgNames()\n",
    "        self.img_dir = img_dir\n",
    "        self.transform = transform\n",
    "        self.target_transform = target_transform\n",
    "        self.mode = mode\n",
    "\n",
    "    def __len__(self):\n",
    "        return len(self.labelNums)\n",
    "\n",
    "    def __getitem__(self, idx):\n",
    "        labelNum = self.labelNums[idx]\n",
    "        labelName = self.labelNames[idx]\n",
    "        if self.mode == \"train\":\n",
    "            img_path = (\n",
    "                os.path.join(self.img_dir, labelName, self.img_names[idx]) + \".JPEG\"\n",
    "            )\n",
    "        else:\n",
    "            img_path = os.path.join(self.img_dir, self.img_names[idx]) + \".JPEG\"\n",
    "        img = Image.open(img_path).convert(\"RGB\")\n",
    "        img = np.array(img)\n",
    "        if self.transform:\n",
    "            img = self.transform(img)\n",
    "        if self.target_transform:\n",
    "            labelNum = self.target_transform(labelNum)\n",
    "        return img, labelNum\n",
    "\n",
    "    def getLabels(self):\n",
    "        labelNames = [\n",
    "            row.split(\" \")[0] for row in self.df[\"PredictionString\"].values.tolist()\n",
    "        ]\n",
    "        le = LabelEncoder()\n",
    "        labelNums = le.fit_transform(labelNames).tolist()\n",
    "        lableMap = dict(zip(le.classes_, range(len(le.classes_))))\n",
    "        return labelNums, labelNames, lableMap\n",
    "\n",
    "    def getImgNames(self):\n",
    "        return self.df[\"ImageId\"].values.tolist()"
   ]
  },
  {
   "cell_type": "code",
   "execution_count": 4,
   "metadata": {},
   "outputs": [],
   "source": [
    "normalize = T.Normalize(mean=[0.485, 0.456, 0.406], std=[0.229, 0.224, 0.225])\n",
    "train_transform = T.Compose(\n",
    "        [\n",
    "            T.ToTensor(),\n",
    "            T.CenterCrop(256),\n",
    "            # T.RandomResizedCrop(img_size),\n",
    "            T.RandomHorizontalFlip(),\n",
    "            T.TenCrop(224),\n",
    "            T.Lambda(\n",
    "                lambda crops: torch.stack([normalize(crop) for crop in crops])\n",
    "            ),\n",
    "        ]\n",
    "    )"
   ]
  },
  {
   "cell_type": "code",
   "execution_count": 5,
   "metadata": {},
   "outputs": [],
   "source": [
    "rootDir = \"../../../datasets/ImageNet/\"\n",
    "train_dataset = ImageNetDataset(\n",
    "    annotations_file=os.path.join(rootDir, \"LOC_train_solution.csv\"),\n",
    "    img_dir=os.path.join(rootDir, \"ILSVRC/Data/CLS-LOC/train\"),\n",
    "    transform=train_transform,\n",
    "    mode=\"train\",\n",
    ")"
   ]
  },
  {
   "cell_type": "code",
   "execution_count": 6,
   "metadata": {},
   "outputs": [
    {
     "data": {
      "text/plain": [
       "10"
      ]
     },
     "execution_count": 6,
     "metadata": {},
     "output_type": "execute_result"
    }
   ],
   "source": [
    "len(train_dataset[0][0])"
   ]
  },
  {
   "cell_type": "code",
   "execution_count": 7,
   "metadata": {},
   "outputs": [],
   "source": [
    "train_loader = torch.utils.data.DataLoader(\n",
    "        train_dataset,\n",
    "        batch_size=16,\n",
    "        shuffle=True,\n",
    "        num_workers=2,\n",
    "        pin_memory=True,\n",
    "    )"
   ]
  },
  {
   "cell_type": "code",
   "execution_count": 8,
   "metadata": {},
   "outputs": [
    {
     "data": {
      "text/plain": [
       "torch.Size([16, 10, 3, 224, 224])"
      ]
     },
     "execution_count": 8,
     "metadata": {},
     "output_type": "execute_result"
    }
   ],
   "source": [
    "next(iter(train_loader))[0].shape"
   ]
  },
  {
   "cell_type": "code",
   "execution_count": 9,
   "metadata": {},
   "outputs": [],
   "source": [
    "n_tta = next(iter(train_loader))[0].size()[1]"
   ]
  },
  {
   "cell_type": "code",
   "execution_count": 10,
   "metadata": {},
   "outputs": [
    {
     "data": {
      "text/plain": [
       "torch.Size([16, 3, 224, 224])"
      ]
     },
     "execution_count": 10,
     "metadata": {},
     "output_type": "execute_result"
    }
   ],
   "source": [
    "next(iter(train_loader))[0][:,0,:,:,:].shape"
   ]
  },
  {
   "cell_type": "code",
   "execution_count": 11,
   "metadata": {},
   "outputs": [],
   "source": [
    "from models.alexnet import AlexNet\n",
    "model = AlexNet(\n",
    "            num_classes=3,\n",
    "            dropout=0.1,\n",
    "        )"
   ]
  },
  {
   "cell_type": "code",
   "execution_count": 22,
   "metadata": {},
   "outputs": [
    {
     "name": "stdout",
     "output_type": "stream",
     "text": [
      "0.008453\n",
      "0.008357\n",
      "0.008895\n",
      "0.008668\n",
      "0.008383\n",
      "0.008944\n",
      "0.008478\n",
      "0.00845\n",
      "0.008827\n",
      "0.008963\n",
      "0.008642\n",
      "0.008642\n"
     ]
    }
   ],
   "source": [
    "inputs = next(iter(train_loader))[0]\n",
    "outputs_sum = torch.zeros(model(torch.select(inputs, 1, 0)).size())\n",
    "outputs_list = []\n",
    "for i in range(n_tta):\n",
    "    inputs_crop = torch.select(inputs, 1, i)\n",
    "    outputs = model(inputs_crop).to(\"cpu\")\n",
    "    # print(outputs_sum.shape, outputs.shape)\n",
    "    outputs_sum += outputs\n",
    "    print(round(outputs.mean().item(), 6))\n",
    "    outputs_list.append(outputs.mean().item())\n",
    "    \n",
    "outputs_mean = outputs_sum / n_tta\n",
    "# print(outputs_mean.size())\n",
    "print(round(outputs_mean.mean().item(), 6))\n",
    "print(round(sum(outputs_list) / len(outputs_list), 6))"
   ]
  },
  {
   "cell_type": "code",
   "execution_count": 19,
   "metadata": {},
   "outputs": [
    {
     "data": {
      "text/plain": [
       "0.008534"
      ]
     },
     "execution_count": 19,
     "metadata": {},
     "output_type": "execute_result"
    }
   ],
   "source": []
  },
  {
   "cell_type": "code",
   "execution_count": null,
   "metadata": {},
   "outputs": [],
   "source": []
  }
 ],
 "metadata": {
  "kernelspec": {
   "display_name": "Python 3",
   "language": "python",
   "name": "python3"
  },
  "language_info": {
   "codemirror_mode": {
    "name": "ipython",
    "version": 3
   },
   "file_extension": ".py",
   "mimetype": "text/x-python",
   "name": "python",
   "nbconvert_exporter": "python",
   "pygments_lexer": "ipython3",
   "version": "3.10.7"
  },
  "orig_nbformat": 4,
  "vscode": {
   "interpreter": {
    "hash": "b4c2760a9c2997f9bc5632bfe1b04c6e39ec7256b7fa1e795474f5afcfd79ce3"
   }
  }
 },
 "nbformat": 4,
 "nbformat_minor": 2
}
