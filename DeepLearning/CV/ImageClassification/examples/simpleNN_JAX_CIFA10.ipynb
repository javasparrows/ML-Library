{
 "cells": [
  {
   "cell_type": "code",
   "execution_count": 1,
   "metadata": {},
   "outputs": [],
   "source": [
    "import jax.numpy as jnp\n",
    "from jax import grad, jit, vmap\n",
    "from jax import random"
   ]
  },
  {
   "attachments": {},
   "cell_type": "markdown",
   "metadata": {},
   "source": [
    "## Hyperparameters"
   ]
  },
  {
   "cell_type": "code",
   "execution_count": 2,
   "metadata": {},
   "outputs": [],
   "source": [
    "# 全結合層のためにweightsとbiasesをランダムに初期化するためのhelper function\n",
    "def random_layer_params(m, n, key, scale=1e-2):\n",
    "  w_key, b_key = random.split(key)\n",
    "  return scale * random.normal(w_key, (n, m)), scale * random.normal(b_key, (n,))\n",
    "\n",
    "# サイズを\"sizes\"とした全結合層の全ての層を初期化\n",
    "def init_network_params(sizes, key):\n",
    "  keys = random.split(key, len(sizes))\n",
    "  return [random_layer_params(m, n, k) for m, n, k in zip(sizes[:-1], sizes[1:], keys)]\n",
    "\n",
    "layer_sizes = [784, 512, 512, 10]\n",
    "step_size = 0.01\n",
    "num_epochs = 8\n",
    "batch_size = 128\n",
    "n_targets = 10\n",
    "params = init_network_params(layer_sizes, random.PRNGKey(0))"
   ]
  },
  {
   "attachments": {},
   "cell_type": "markdown",
   "metadata": {},
   "source": [
    "# Auto-batching predictions\n",
    "\n",
    "1枚の画像の例のために予測関数を定義しよう。。パフォーマンスの低下なしにミニバッチを自動的に扱うためにJAXの`vmap`関数を使う。"
   ]
  },
  {
   "cell_type": "code",
   "execution_count": 3,
   "metadata": {},
   "outputs": [],
   "source": [
    "from jax.scipy.special import logsumexp\n",
    "\n",
    "def relu(x):\n",
    "  return jnp.maximum(0, x)\n",
    "\n",
    "def predict(params, image):\n",
    "  # exampleごとの予測\n",
    "  activations = image\n",
    "  for w, b in params[:-1]:\n",
    "    outputs = jnp.dot(w, activations) + b\n",
    "    activations = relu(outputs)\n",
    "\n",
    "  final_w, final_b = params[-1]\n",
    "  logits = jnp.dot(final_w, activations) + final_b\n",
    "  return logits - logsumexp(logits)"
   ]
  },
  {
   "cell_type": "markdown",
   "metadata": {},
   "source": [
    "今作った予測関数が1枚の画像でのみ動くことを確かめよう"
   ]
  },
  {
   "cell_type": "code",
   "execution_count": 4,
   "metadata": {},
   "outputs": [
    {
     "name": "stdout",
     "output_type": "stream",
     "text": [
      "(10,)\n"
     ]
    }
   ],
   "source": [
    "# 1枚の画像で動く\n",
    "random_flattenend_image = random.normal(random.PRNGKey(1), (28 * 28,))\n",
    "preds = predict(params, random_flattenend_image)\n",
    "print(preds.shape)"
   ]
  },
  {
   "cell_type": "code",
   "execution_count": 5,
   "metadata": {},
   "outputs": [
    {
     "name": "stdout",
     "output_type": "stream",
     "text": [
      "Invalid shapes!\n"
     ]
    }
   ],
   "source": [
    "# バッチでは動かない\n",
    "random_flattenend_images = random.normal(random.PRNGKey(1), (10, 28 * 28))\n",
    "try:\n",
    "  preds = predict(params, random_flattenend_images)\n",
    "except TypeError:\n",
    "  print('Invalid shapes!')"
   ]
  },
  {
   "cell_type": "code",
   "execution_count": 6,
   "metadata": {},
   "outputs": [
    {
     "name": "stdout",
     "output_type": "stream",
     "text": [
      "(10, 10)\n"
     ]
    }
   ],
   "source": [
    "# バッチを扱えるように `vmap` を使ってアップグレードしよう\n",
    "\n",
    "# 予測関数のバッチ版を作る\n",
    "batched_predict = vmap(predict, in_axes=(None, 0))\n",
    "\n",
    "# `batched_predict` は `predict` と同じcallサインを持つ\n",
    "batched_preds = batched_predict(params, random_flattenend_images)\n",
    "print(batched_preds.shape)"
   ]
  },
  {
   "attachments": {},
   "cell_type": "markdown",
   "metadata": {},
   "source": [
    "ここで、私たちのニューラルネットワークを定義し、それを学習するのに必要な全ての材料が揃った。自動バッチ版の予測関数`predict`を構築した。これは損失関数の中で使えるはずのものである。ニューラルネットワークのパラメータごとのlossの微分を行うために`grad`を使う。最後に、全てをスピードアップするために`jit`を使用する。"
   ]
  },
  {
   "cell_type": "markdown",
   "metadata": {},
   "source": [
    "## Utility and loss functions"
   ]
  },
  {
   "cell_type": "code",
   "execution_count": 7,
   "metadata": {},
   "outputs": [],
   "source": [
    "def one_hot(x, k, dtype=jnp.float32):\n",
    "  \"\"\" x についての、サイズ k のone-hotエンコーディングを作成\"\"\"\n",
    "  return jnp.array(x[:, None] == jnp.arange(k), dtype)\n",
    "\n",
    "def accuracy(params, images, targets):\n",
    "  target_class = jnp.argmax(targets, axis=1)\n",
    "  predicted_class = jnp.argmax(batched_predict(params, images), axis=1)\n",
    "  return jnp.mean(predicted_class == target_class)\n",
    "\n",
    "def loss(params, images, targets):\n",
    "  preds = batched_predict(params, images)\n",
    "  return -jnp.mean(preds * targets)\n",
    "\n",
    "@jit\n",
    "def update(params, x, y):\n",
    "  grads = grad(loss)(params, x, y)\n",
    "  return [(w - step_size * dw, b - step_size * db)\n",
    "          for (w, b), (dw, db) in zip(params, grads)]"
   ]
  },
  {
   "attachments": {},
   "cell_type": "markdown",
   "metadata": {},
   "source": [
    "## Data Loading with PyTorch\n",
    "JAXはtransformationsに集中し、かつNumPyをバックとしているため、私たちはデータローディングやmunging（データをいろいろ加工すること）はJAXライブラリには含めていない。優れたデータローダーがすでにたくさんあるため、そういったものを再発明する代わりにそれらを使おう。PyTorchのデータローダーを使い、NumPy配列で動く簡単な機能を作ってみる。"
   ]
  },
  {
   "cell_type": "code",
   "execution_count": 8,
   "metadata": {},
   "outputs": [
    {
     "name": "stderr",
     "output_type": "stream",
     "text": [
      "/Users/yukik/Work/ML/ML-Library/.venv/lib/python3.10/site-packages/torchvision/io/image.py:13: UserWarning: Failed to load image Python extension: dlopen(/Users/yukik/Work/ML/ML-Library/.venv/lib/python3.10/site-packages/torchvision/image.so, 0x0006): Symbol not found: __ZN2at4_ops19empty_memory_format4callEN3c108ArrayRefIxEENS2_8optionalINS2_10ScalarTypeEEENS5_INS2_6LayoutEEENS5_INS2_6DeviceEEENS5_IbEENS5_INS2_12MemoryFormatEEE\n",
      "  Referenced from: <F064E54E-B9B1-3EC9-9B6C-7AF012333C35> /Users/yukik/Work/ML/ML-Library/.venv/lib/python3.10/site-packages/torchvision/image.so\n",
      "  Expected in:     <0BB917BA-0D8F-3429-B798-476DA4A619BD> /Users/yukik/Work/ML/ML-Library/.venv/lib/python3.10/site-packages/torch/lib/libtorch_cpu.dylib\n",
      "  warn(f\"Failed to load image Python extension: {e}\")\n"
     ]
    }
   ],
   "source": [
    "import numpy as np\n",
    "from torch.utils import data\n",
    "from torchvision.datasets import CIFAR10\n",
    "\n",
    "def numpy_collate(batch):\n",
    "  if isinstance(batch[0], np.ndarray):\n",
    "    return np.stack(batch)\n",
    "  elif isinstance(batch[0], (tuple,list)):\n",
    "    transposed = zip(*batch)\n",
    "    return [numpy_collate(samples) for samples in transposed]\n",
    "  else:\n",
    "    return np.array(batch)\n",
    "\n",
    "class NumpyLoader(data.DataLoader):\n",
    "  def __init__(self, dataset, batch_size=1,\n",
    "               shuffle=False, sampler=None,\n",
    "               batch_sampler=None, num_workers=0,\n",
    "               pin_memory=False, drop_last=False,\n",
    "               timeout=0, worker_init_fn=None):\n",
    "    super(self.__class__, self).__init__(dataset,\n",
    "          batch_size=batch_size,\n",
    "          shuffle=shuffle,\n",
    "          sampler=sampler,\n",
    "          batch_sampler=batch_sampler,\n",
    "          num_workers=num_workers,\n",
    "          collate_fn=numpy_collate,\n",
    "          pin_memory=pin_memory,\n",
    "          drop_last=drop_last,\n",
    "          timeout=timeout,\n",
    "          worker_init_fn=worker_init_fn)\n",
    "\n",
    "class FlattenAndCast(object):\n",
    "  def __call__(self, pic):\n",
    "    return np.ravel(np.array(pic, dtype=jnp.float32))"
   ]
  },
  {
   "cell_type": "code",
   "execution_count": 9,
   "metadata": {},
   "outputs": [
    {
     "name": "stdout",
     "output_type": "stream",
     "text": [
      "Files already downloaded and verified\n"
     ]
    }
   ],
   "source": [
    "# torch datasetを使ってdatasetを定義する\n",
    "cifar10_dataset = CIFAR10('/tmp/cifar10/', download=True, transform=FlattenAndCast())\n",
    "training_generator = NumpyLoader(cifar10_dataset, batch_size=batch_size, num_workers=0)"
   ]
  },
  {
   "cell_type": "code",
   "execution_count": 11,
   "metadata": {},
   "outputs": [
    {
     "name": "stdout",
     "output_type": "stream",
     "text": [
      "__add__ : <class 'method'>\n",
      "__annotations__ : <class 'dict'>\n",
      "__class__ : <class 'type'>\n",
      "__class_getitem__ : <class 'method'>\n",
      "__delattr__ : <class 'method-wrapper'>\n",
      "__dict__ : <class 'dict'>\n",
      "__dir__ : <class 'builtin_function_or_method'>\n",
      "__doc__ : <class 'str'>\n",
      "__eq__ : <class 'method-wrapper'>\n",
      "__format__ : <class 'builtin_function_or_method'>\n",
      "__ge__ : <class 'method-wrapper'>\n",
      "__getattribute__ : <class 'method-wrapper'>\n",
      "__getitem__ : <class 'method'>\n",
      "__gt__ : <class 'method-wrapper'>\n",
      "__hash__ : <class 'method-wrapper'>\n",
      "__init__ : <class 'method'>\n",
      "__init_subclass__ : <class 'method'>\n",
      "__le__ : <class 'method-wrapper'>\n",
      "__len__ : <class 'method'>\n",
      "__lt__ : <class 'method-wrapper'>\n",
      "__module__ : <class 'str'>\n",
      "__ne__ : <class 'method-wrapper'>\n",
      "__new__ : <class 'builtin_function_or_method'>\n",
      "__orig_bases__ : <class 'tuple'>\n",
      "__parameters__ : <class 'tuple'>\n",
      "__reduce__ : <class 'builtin_function_or_method'>\n",
      "__reduce_ex__ : <class 'builtin_function_or_method'>\n",
      "__repr__ : <class 'method'>\n",
      "__setattr__ : <class 'method-wrapper'>\n",
      "__sizeof__ : <class 'builtin_function_or_method'>\n",
      "__slots__ : <class 'tuple'>\n",
      "__str__ : <class 'method-wrapper'>\n",
      "__subclasshook__ : <class 'builtin_function_or_method'>\n",
      "__weakref__ : <class 'NoneType'>\n",
      "_check_integrity : <class 'method'>\n",
      "_format_transform_repr : <class 'method'>\n",
      "_is_protocol : <class 'bool'>\n",
      "_load_meta : <class 'method'>\n",
      "_repr_indent : <class 'int'>\n",
      "base_folder : <class 'str'>\n",
      "class_to_idx : <class 'dict'>\n",
      "classes : <class 'list'>\n",
      "data : <class 'numpy.ndarray'>\n",
      "download : <class 'method'>\n",
      "extra_repr : <class 'method'>\n",
      "filename : <class 'str'>\n",
      "meta : <class 'dict'>\n",
      "root : <class 'str'>\n",
      "target_transform : <class 'NoneType'>\n",
      "targets : <class 'list'>\n",
      "test_list : <class 'list'>\n",
      "tgz_md5 : <class 'str'>\n",
      "train : <class 'bool'>\n",
      "train_list : <class 'list'>\n",
      "transform : <class '__main__.FlattenAndCast'>\n",
      "transforms : <class 'torchvision.datasets.vision.StandardTransform'>\n",
      "url : <class 'str'>\n"
     ]
    }
   ],
   "source": [
    "for x in dir(cifar10_dataset):\n",
    "  print(x, ':', type(eval(\"cifar10_dataset.\"+x)))"
   ]
  },
  {
   "cell_type": "code",
   "execution_count": 24,
   "metadata": {},
   "outputs": [
    {
     "name": "stdout",
     "output_type": "stream",
     "text": [
      "Files already downloaded and verified\n"
     ]
    }
   ],
   "source": [
    "# フルのtrain datasetをゲット（学習中の精度を確認するため）\n",
    "train_images = np.array(cifar10_dataset.data).reshape(len(cifar10_dataset.data), -1)\n",
    "train_labels = one_hot(np.array(cifar10_dataset.targets), n_targets)\n",
    "\n",
    "# フルのtest datasetをゲット\n",
    "cifar10_dataset_test = CIFAR10('/tmp/cifar10/', download=True, train=False)\n",
    "test_images = jnp.array(cifar10_dataset_test.data.reshape(len(cifar10_dataset_test.data), -1), dtype=jnp.float32)\n",
    "test_labels = one_hot(np.array(cifar10_dataset_test.targets), n_targets)"
   ]
  },
  {
   "cell_type": "markdown",
   "metadata": {},
   "source": [
    "## Training Loop"
   ]
  },
  {
   "cell_type": "code",
   "execution_count": 25,
   "metadata": {},
   "outputs": [
    {
     "ename": "TypeError",
     "evalue": "Incompatible shapes for dot: got (512, 784) and (3072,).",
     "output_type": "error",
     "traceback": [
      "\u001b[0;31m---------------------------------------------------------------------------\u001b[0m",
      "\u001b[0;31mTypeError\u001b[0m                                 Traceback (most recent call last)",
      "Cell \u001b[0;32mIn[25], line 7\u001b[0m\n\u001b[1;32m      5\u001b[0m \u001b[39mfor\u001b[39;00m x, y \u001b[39min\u001b[39;00m training_generator:\n\u001b[1;32m      6\u001b[0m   y \u001b[39m=\u001b[39m one_hot(y, n_targets)\n\u001b[0;32m----> 7\u001b[0m   params \u001b[39m=\u001b[39m update(params, x, y)\n\u001b[1;32m      8\u001b[0m epoch_time \u001b[39m=\u001b[39m time\u001b[39m.\u001b[39mtime() \u001b[39m-\u001b[39m start_time\n\u001b[1;32m     10\u001b[0m train_acc \u001b[39m=\u001b[39m accuracy(params, train_images, train_labels)\n",
      "    \u001b[0;31m[... skipping hidden 11 frame]\u001b[0m\n",
      "Cell \u001b[0;32mIn[7], line 16\u001b[0m, in \u001b[0;36mupdate\u001b[0;34m(params, x, y)\u001b[0m\n\u001b[1;32m     14\u001b[0m \u001b[39m@jit\u001b[39m\n\u001b[1;32m     15\u001b[0m \u001b[39mdef\u001b[39;00m \u001b[39mupdate\u001b[39m(params, x, y):\n\u001b[0;32m---> 16\u001b[0m   grads \u001b[39m=\u001b[39m grad(loss)(params, x, y)\n\u001b[1;32m     17\u001b[0m   \u001b[39mreturn\u001b[39;00m [(w \u001b[39m-\u001b[39m step_size \u001b[39m*\u001b[39m dw, b \u001b[39m-\u001b[39m step_size \u001b[39m*\u001b[39m db)\n\u001b[1;32m     18\u001b[0m           \u001b[39mfor\u001b[39;00m (w, b), (dw, db) \u001b[39min\u001b[39;00m \u001b[39mzip\u001b[39m(params, grads)]\n",
      "    \u001b[0;31m[... skipping hidden 10 frame]\u001b[0m\n",
      "Cell \u001b[0;32mIn[7], line 11\u001b[0m, in \u001b[0;36mloss\u001b[0;34m(params, images, targets)\u001b[0m\n\u001b[1;32m     10\u001b[0m \u001b[39mdef\u001b[39;00m \u001b[39mloss\u001b[39m(params, images, targets):\n\u001b[0;32m---> 11\u001b[0m   preds \u001b[39m=\u001b[39m batched_predict(params, images)\n\u001b[1;32m     12\u001b[0m   \u001b[39mreturn\u001b[39;00m \u001b[39m-\u001b[39mjnp\u001b[39m.\u001b[39mmean(preds \u001b[39m*\u001b[39m targets)\n",
      "    \u001b[0;31m[... skipping hidden 3 frame]\u001b[0m\n",
      "Cell \u001b[0;32mIn[3], line 10\u001b[0m, in \u001b[0;36mpredict\u001b[0;34m(params, image)\u001b[0m\n\u001b[1;32m      8\u001b[0m activations \u001b[39m=\u001b[39m image\n\u001b[1;32m      9\u001b[0m \u001b[39mfor\u001b[39;00m w, b \u001b[39min\u001b[39;00m params[:\u001b[39m-\u001b[39m\u001b[39m1\u001b[39m]:\n\u001b[0;32m---> 10\u001b[0m   outputs \u001b[39m=\u001b[39m jnp\u001b[39m.\u001b[39;49mdot(w, activations) \u001b[39m+\u001b[39m b\n\u001b[1;32m     11\u001b[0m   activations \u001b[39m=\u001b[39m relu(outputs)\n\u001b[1;32m     13\u001b[0m final_w, final_b \u001b[39m=\u001b[39m params[\u001b[39m-\u001b[39m\u001b[39m1\u001b[39m]\n",
      "    \u001b[0;31m[... skipping hidden 11 frame]\u001b[0m\n",
      "File \u001b[0;32m~/Work/ML/ML-Library/.venv/lib/python3.10/site-packages/jax/_src/numpy/lax_numpy.py:2912\u001b[0m, in \u001b[0;36mdot\u001b[0;34m(a, b, precision)\u001b[0m\n\u001b[1;32m   2910\u001b[0m   \u001b[39mreturn\u001b[39;00m lax\u001b[39m.\u001b[39mmul(a, b)\n\u001b[1;32m   2911\u001b[0m \u001b[39mif\u001b[39;00m _max(a_ndim, b_ndim) \u001b[39m<\u001b[39m\u001b[39m=\u001b[39m \u001b[39m2\u001b[39m:\n\u001b[0;32m-> 2912\u001b[0m   \u001b[39mreturn\u001b[39;00m lax\u001b[39m.\u001b[39;49mdot(a, b, precision\u001b[39m=\u001b[39;49mprecision)\n\u001b[1;32m   2914\u001b[0m \u001b[39mif\u001b[39;00m b_ndim \u001b[39m==\u001b[39m \u001b[39m1\u001b[39m:\n\u001b[1;32m   2915\u001b[0m   contract_dims \u001b[39m=\u001b[39m ((a_ndim \u001b[39m-\u001b[39m \u001b[39m1\u001b[39m,), (\u001b[39m0\u001b[39m,))\n",
      "File \u001b[0;32m~/Work/ML/ML-Library/.venv/lib/python3.10/site-packages/jax/_src/lax/lax.py:733\u001b[0m, in \u001b[0;36mdot\u001b[0;34m(lhs, rhs, precision, preferred_element_type)\u001b[0m\n\u001b[1;32m    729\u001b[0m   \u001b[39mreturn\u001b[39;00m dot_general(lhs, rhs, (((lhs\u001b[39m.\u001b[39mndim \u001b[39m-\u001b[39m \u001b[39m1\u001b[39m,), (\u001b[39m0\u001b[39m,)), ((), ())),\n\u001b[1;32m    730\u001b[0m                      precision\u001b[39m=\u001b[39mprecision,\n\u001b[1;32m    731\u001b[0m                      preferred_element_type\u001b[39m=\u001b[39mpreferred_element_type)\n\u001b[1;32m    732\u001b[0m \u001b[39melse\u001b[39;00m:\n\u001b[0;32m--> 733\u001b[0m   \u001b[39mraise\u001b[39;00m \u001b[39mTypeError\u001b[39;00m(\u001b[39m\"\u001b[39m\u001b[39mIncompatible shapes for dot: got \u001b[39m\u001b[39m{}\u001b[39;00m\u001b[39m and \u001b[39m\u001b[39m{}\u001b[39;00m\u001b[39m.\u001b[39m\u001b[39m\"\u001b[39m\u001b[39m.\u001b[39mformat(\n\u001b[1;32m    734\u001b[0m       lhs\u001b[39m.\u001b[39mshape, rhs\u001b[39m.\u001b[39mshape))\n",
      "\u001b[0;31mTypeError\u001b[0m: Incompatible shapes for dot: got (512, 784) and (3072,)."
     ]
    }
   ],
   "source": [
    "import time\n",
    "\n",
    "for epoch in range(num_epochs):\n",
    "  start_time = time.time()\n",
    "  for x, y in training_generator:\n",
    "    y = one_hot(y, n_targets)\n",
    "    params = update(params, x, y)\n",
    "  epoch_time = time.time() - start_time\n",
    "  \n",
    "  train_acc = accuracy(params, train_images, train_labels)\n",
    "  test_acc = accuracy(params, test_images, test_labels)\n",
    "  print(f\"Epoch {epoch} in {epoch_time:0.2f} sec\")\n",
    "  print(f\"Training set accuracy {train_acc}\")\n",
    "  print(f\"Test set accuracy {test_acc}\")"
   ]
  },
  {
   "cell_type": "code",
   "execution_count": null,
   "metadata": {},
   "outputs": [],
   "source": []
  }
 ],
 "metadata": {
  "kernelspec": {
   "display_name": ".venv",
   "language": "python",
   "name": "python3"
  },
  "language_info": {
   "codemirror_mode": {
    "name": "ipython",
    "version": 3
   },
   "file_extension": ".py",
   "mimetype": "text/x-python",
   "name": "python",
   "nbconvert_exporter": "python",
   "pygments_lexer": "ipython3",
   "version": "3.10.7"
  },
  "orig_nbformat": 4,
  "vscode": {
   "interpreter": {
    "hash": "0b6ce19cd792589e8ccf8babb3986c3b6ee32845423f27865ddfac7006bec93a"
   }
  }
 },
 "nbformat": 4,
 "nbformat_minor": 2
}
