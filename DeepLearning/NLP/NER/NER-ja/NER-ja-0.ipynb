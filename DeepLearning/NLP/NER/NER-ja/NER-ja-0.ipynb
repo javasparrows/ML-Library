{
 "cells": [
  {
   "cell_type": "code",
   "execution_count": 4,
   "metadata": {},
   "outputs": [],
   "source": [
    "# !pip install -U pip setuptools wheel   \n",
    "# !pip install -U spacy \n",
    "# !python -m spacy download ja_core_news_sm"
   ]
  },
  {
   "cell_type": "code",
   "execution_count": 3,
   "metadata": {},
   "outputs": [
    {
     "name": "stderr",
     "output_type": "stream",
     "text": [
      "/home/yuki/.pyenv/versions/3.10.7/lib/python3.10/site-packages/tqdm/auto.py:22: TqdmWarning: IProgress not found. Please update jupyter and ipywidgets. See https://ipywidgets.readthedocs.io/en/stable/user_install.html\n",
      "  from .autonotebook import tqdm as notebook_tqdm\n",
      "2022-12-19 21:05:40.758349: I tensorflow/core/platform/cpu_feature_guard.cc:193] This TensorFlow binary is optimized with oneAPI Deep Neural Network Library (oneDNN) to use the following CPU instructions in performance-critical operations:  AVX2 FMA\n",
      "To enable them in other operations, rebuild TensorFlow with the appropriate compiler flags.\n",
      "2022-12-19 21:05:41.385779: W tensorflow/compiler/xla/stream_executor/platform/default/dso_loader.cc:64] Could not load dynamic library 'libnvinfer.so.7'; dlerror: libnvinfer.so.7: cannot open shared object file: No such file or directory\n",
      "2022-12-19 21:05:41.385841: W tensorflow/compiler/xla/stream_executor/platform/default/dso_loader.cc:64] Could not load dynamic library 'libnvinfer_plugin.so.7'; dlerror: libnvinfer_plugin.so.7: cannot open shared object file: No such file or directory\n",
      "2022-12-19 21:05:41.385847: W tensorflow/compiler/tf2tensorrt/utils/py_utils.cc:38] TF-TRT Warning: Cannot dlopen some TensorRT libraries. If you would like to use Nvidia GPU with TensorRT, please make sure the missing libraries mentioned above are installed properly.\n"
     ]
    },
    {
     "name": "stdout",
     "output_type": "stream",
     "text": [
      "アップルがイギリスの新興企業を１０億ドルで購入を検討\n",
      "アップル PROPN nsubj\n",
      "が ADP case\n",
      "イギリス PROPN nmod\n",
      "の ADP case\n",
      "新興 NOUN compound\n",
      "企業 NOUN obj\n",
      "を ADP case\n",
      "１０億 NUM nummod\n",
      "ドル NOUN obl\n",
      "で ADP case\n",
      "購入 NOUN obj\n",
      "を ADP case\n",
      "検討 VERB ROOT\n"
     ]
    }
   ],
   "source": [
    "import spacy\n",
    "from spacy.lang.ja.examples import sentences\n",
    "\n",
    "nlp = spacy.load(\"ja_core_news_sm\")\n",
    "doc = nlp(sentences[0])\n",
    "print(doc.text)\n",
    "for token in doc:\n",
    "  print(token.text, token.pos_, token.dep_)"
   ]
  },
  {
   "cell_type": "code",
   "execution_count": null,
   "metadata": {},
   "outputs": [],
   "source": []
  }
 ],
 "metadata": {
  "kernelspec": {
   "display_name": "Python 3",
   "language": "python",
   "name": "python3"
  },
  "language_info": {
   "codemirror_mode": {
    "name": "ipython",
    "version": 3
   },
   "file_extension": ".py",
   "mimetype": "text/x-python",
   "name": "python",
   "nbconvert_exporter": "python",
   "pygments_lexer": "ipython3",
   "version": "3.10.7 (main, Dec 13 2022, 15:13:15) [GCC 11.3.0]"
  },
  "orig_nbformat": 4,
  "vscode": {
   "interpreter": {
    "hash": "b4c2760a9c2997f9bc5632bfe1b04c6e39ec7256b7fa1e795474f5afcfd79ce3"
   }
  }
 },
 "nbformat": 4,
 "nbformat_minor": 2
}
